{
 "cells": [
  {
   "cell_type": "code",
   "execution_count": 13,
   "metadata": {},
   "outputs": [
    {
     "name": "stdout",
     "output_type": "stream",
     "text": [
      "Requirement already satisfied: ipython-autotime in c:\\users\\nguye\\appdata\\local\\programs\\python\\python312\\lib\\site-packages (0.3.2)\n",
      "Requirement already satisfied: ipython in c:\\users\\nguye\\appdata\\local\\programs\\python\\python312\\lib\\site-packages (from ipython-autotime) (8.22.2)\n",
      "Requirement already satisfied: decorator in c:\\users\\nguye\\appdata\\local\\programs\\python\\python312\\lib\\site-packages (from ipython->ipython-autotime) (5.1.1)\n",
      "Requirement already satisfied: jedi>=0.16 in c:\\users\\nguye\\appdata\\local\\programs\\python\\python312\\lib\\site-packages (from ipython->ipython-autotime) (0.19.1)\n",
      "Requirement already satisfied: matplotlib-inline in c:\\users\\nguye\\appdata\\local\\programs\\python\\python312\\lib\\site-packages (from ipython->ipython-autotime) (0.1.6)\n",
      "Requirement already satisfied: prompt-toolkit<3.1.0,>=3.0.41 in c:\\users\\nguye\\appdata\\local\\programs\\python\\python312\\lib\\site-packages (from ipython->ipython-autotime) (3.0.43)\n",
      "Requirement already satisfied: pygments>=2.4.0 in c:\\users\\nguye\\appdata\\local\\programs\\python\\python312\\lib\\site-packages (from ipython->ipython-autotime) (2.17.2)\n",
      "Requirement already satisfied: stack-data in c:\\users\\nguye\\appdata\\local\\programs\\python\\python312\\lib\\site-packages (from ipython->ipython-autotime) (0.6.3)\n",
      "Requirement already satisfied: traitlets>=5.13.0 in c:\\users\\nguye\\appdata\\local\\programs\\python\\python312\\lib\\site-packages (from ipython->ipython-autotime) (5.14.2)\n",
      "Requirement already satisfied: colorama in c:\\users\\nguye\\appdata\\local\\programs\\python\\python312\\lib\\site-packages (from ipython->ipython-autotime) (0.4.6)\n",
      "Requirement already satisfied: parso<0.9.0,>=0.8.3 in c:\\users\\nguye\\appdata\\local\\programs\\python\\python312\\lib\\site-packages (from jedi>=0.16->ipython->ipython-autotime) (0.8.3)\n",
      "Requirement already satisfied: wcwidth in c:\\users\\nguye\\appdata\\local\\programs\\python\\python312\\lib\\site-packages (from prompt-toolkit<3.1.0,>=3.0.41->ipython->ipython-autotime) (0.2.13)\n",
      "Requirement already satisfied: executing>=1.2.0 in c:\\users\\nguye\\appdata\\local\\programs\\python\\python312\\lib\\site-packages (from stack-data->ipython->ipython-autotime) (2.0.1)\n",
      "Requirement already satisfied: asttokens>=2.1.0 in c:\\users\\nguye\\appdata\\local\\programs\\python\\python312\\lib\\site-packages (from stack-data->ipython->ipython-autotime) (2.4.1)\n",
      "Requirement already satisfied: pure-eval in c:\\users\\nguye\\appdata\\local\\programs\\python\\python312\\lib\\site-packages (from stack-data->ipython->ipython-autotime) (0.2.2)\n",
      "Requirement already satisfied: six>=1.12.0 in c:\\users\\nguye\\appdata\\local\\programs\\python\\python312\\lib\\site-packages (from asttokens>=2.1.0->stack-data->ipython->ipython-autotime) (1.16.0)\n",
      "The autotime extension is already loaded. To reload it, use:\n",
      "  %reload_ext autotime\n",
      "time: 2.05 s (started: 2025-02-15 12:38:13 +07:00)\n"
     ]
    }
   ],
   "source": [
    "!pip install ipython-autotime\n",
    "%load_ext autotime"
   ]
  },
  {
   "cell_type": "markdown",
   "metadata": {},
   "source": [
    "**Hyperparamter Tuning for a Random Forest with `HalvingGridSearchCV`**"
   ]
  },
  {
   "cell_type": "code",
   "execution_count": 14,
   "metadata": {},
   "outputs": [
    {
     "name": "stdout",
     "output_type": "stream",
     "text": [
      "time: 0 ns (started: 2025-02-15 12:38:16 +07:00)\n"
     ]
    }
   ],
   "source": [
    "from sklearn.experimental import enable_halving_search_cv\n",
    "from sklearn.model_selection import HalvingGridSearchCV\n",
    "from sklearn.ensemble import RandomForestClassifier\n",
    "from sklearn.datasets import load_digits\n",
    "from sklearn.model_selection import train_test_split\n",
    "\n",
    "# Load dataset\n",
    "X, y = load_digits(return_X_y=True)\n",
    "X_train, X_test, y_train, y_test = train_test_split(X, y, test_size=0.2, random_state=42)\n",
    "\n",
    "# Define model\n",
    "rf = RandomForestClassifier(random_state=42)\n",
    "\n",
    "# Define parameter grid\n",
    "param_grid = {\n",
    "    'n_estimators': [10, 50, 100, 200, 500],\n",
    "    'max_depth': [5, 10, 15, None],\n",
    "    'min_samples_split': [2, 5, 10]\n",
    "}\n",
    "\n",
    "# Define Halving Grid Search\n",
    "halving_search = HalvingGridSearchCV(\n",
    "    rf, param_grid, factor=2, min_resources=10, random_state=42, n_jobs=-1\n",
    ")"
   ]
  },
  {
   "cell_type": "code",
   "execution_count": 15,
   "metadata": {},
   "outputs": [
    {
     "name": "stdout",
     "output_type": "stream",
     "text": [
      "Best Parameters: {'max_depth': None, 'min_samples_split': 2, 'n_estimators': 500}\n",
      "time: 45.9 s (started: 2025-02-15 12:38:16 +07:00)\n"
     ]
    }
   ],
   "source": [
    "# Fit the model\n",
    "halving_search.fit(X_train, y_train)\n",
    "\n",
    "# Best hyperparameters\n",
    "print(\"Best Parameters:\", halving_search.best_params_)"
   ]
  },
  {
   "cell_type": "markdown",
   "metadata": {},
   "source": [
    "**Hyperparamter Tuning for a SVC with `HalvingRandomSearchCV`**"
   ]
  },
  {
   "cell_type": "code",
   "execution_count": 16,
   "metadata": {},
   "outputs": [
    {
     "name": "stdout",
     "output_type": "stream",
     "text": [
      "time: 0 ns (started: 2025-02-15 12:39:01 +07:00)\n"
     ]
    }
   ],
   "source": [
    "from scipy.stats import loguniform\n",
    "from sklearn import svm\n",
    "from sklearn import model_selection\n",
    "from sklearn.model_selection import HalvingRandomSearchCV\n",
    "from sklearn.datasets import make_classification\n",
    "\n",
    "\n",
    "svc = svm.SVC(probability=True, random_state=1)\n",
    "\n",
    "X, y = make_classification(n_samples=300, n_features=50,\n",
    "                          n_informative=10,\n",
    "                          n_redundant=25, n_repeated=15,\n",
    "                          n_clusters_per_class=5,\n",
    "                          flip_y=0.05, class_sep=0.5,\n",
    "                          random_state=0)\n",
    "\n",
    "search_dict = {'kernel': ['linear', 'rbf'],\n",
    "                'C': loguniform(1, 1000),\n",
    "                'gamma': loguniform(0.0001, 0.1)\n",
    "              }\n",
    "\n",
    "scorer = 'accuracy'"
   ]
  },
  {
   "cell_type": "code",
   "execution_count": 17,
   "metadata": {},
   "outputs": [
    {
     "name": "stdout",
     "output_type": "stream",
     "text": [
      "time: 0 ns (started: 2025-02-15 12:39:01 +07:00)\n"
     ]
    }
   ],
   "source": [
    "search_func = HalvingRandomSearchCV(estimator=svc,\n",
    "                                  param_distributions=search_dict,\n",
    "                                  resource='n_samples',\n",
    "                                  max_resources=100,\n",
    "                                  aggressive_elimination=True,\n",
    "                                  scoring=scorer,\n",
    "                                  n_jobs=-1,\n",
    "                                  cv=5,\n",
    "                                  random_state=0)"
   ]
  },
  {
   "cell_type": "code",
   "execution_count": 18,
   "metadata": {},
   "outputs": [
    {
     "name": "stdout",
     "output_type": "stream",
     "text": [
      "{'C': 86.63279761354555, 'gamma': 0.002054762512591136, 'kernel': 'linear'}\n",
      "0.6166666666666667\n",
      "time: 52.7 s (started: 2025-02-15 12:39:02 +07:00)\n"
     ]
    }
   ],
   "source": [
    "search_func.fit(X, y)\n",
    "print (search_func.best_params_)\n",
    "print (search_func.best_score_)"
   ]
  }
 ],
 "metadata": {
  "kernelspec": {
   "display_name": "Python 3",
   "language": "python",
   "name": "python3"
  },
  "language_info": {
   "codemirror_mode": {
    "name": "ipython",
    "version": 3
   },
   "file_extension": ".py",
   "mimetype": "text/x-python",
   "name": "python",
   "nbconvert_exporter": "python",
   "pygments_lexer": "ipython3",
   "version": "3.12.8"
  }
 },
 "nbformat": 4,
 "nbformat_minor": 2
}
